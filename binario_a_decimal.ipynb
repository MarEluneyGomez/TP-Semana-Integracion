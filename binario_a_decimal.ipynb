{
 "cells": [
  {
   "cell_type": "code",
   "execution_count": null,
   "id": "3e62dbb9",
   "metadata": {},
   "outputs": [],
   "source": [
    "import random\n",
    "#Genera un binario aleatorio de entre 4 y 10 digitos\n",
    "def generar_binario ():\n",
    "\n",
    "    binario = ''\n",
    "\n",
    "    #genera una longitud random entre 4 y 10\n",
    "    longitud = random.randint(3,10)\n",
    "\n",
    "    for i in range(longitud):\n",
    "\n",
    "        #asigna un '1' o un '0' aleatoriamente en cada iteracion\n",
    "        bit = random.choice(['0','1'])\n",
    "\n",
    "        #concatena cada digito asignado en cada iteracion\n",
    "        binario += bit\n",
    "\n",
    "    return binario\n"
   ]
  },
  {
   "cell_type": "code",
   "execution_count": 26,
   "id": "106d86cd",
   "metadata": {},
   "outputs": [],
   "source": [
    "binario = generar_binario()"
   ]
  },
  {
   "cell_type": "code",
   "execution_count": 46,
   "id": "4eb65ca7",
   "metadata": {},
   "outputs": [],
   "source": [
    "# Binario a decimal:\n",
    "#Sabemos que un binario puede convertirse a decimal si tomamos cada digito comenzando por la derecha y lo multiplicamos por 2^x,\n",
    "# donde x es igual a su posicion (de derecha a izquierda) - 1\n",
    "    # por ejemplo: Binario 1101\n",
    "    # posicion1 = 1, posicion2 = 0, posicion3 = 1,posicion4 = 1\n",
    "    # potencia1 = posicion1 - 1, potencia2 = posicion2 - 1, potencia3 = posicion3 - 1, potencia4 = posicion4 - 1\n",
    "    # decimal = 1 . (2^0) + 0 . (2^1) + 1 . (2^2) + 1 . (2^3)\n",
    "\n",
    "def Binario_Decimal (binario):\n",
    "    # Logica para el codigo:\n",
    "    '''Como la potencia inicial SIEMPRE es cero, sabemos que la longitud de un binario menos 1 nos da la potencia más alta a asignar\n",
    "        #Por ejemplo: Binario '1010', Longitud:'4', Potencia_Maxima= 4-1'''\n",
    "\n",
    "    ''' Tambien sabemos que si empezamos a 'asignar' potencias a cada digito de un binario, si comenzamos por la izquierda, la mayor potencia a asignar, le corresponde al primer digito y...\n",
    "        las potencias de los otros digitos estan dadas por la potencia anterior menos 1\n",
    "            Por ejemplo: Binario:'1010', Potencia_Maxima:'3'\n",
    "            Primer_digito:'1', primera_potencia:'3','segundo_digito:'0', segunda_potencia:'3-1', tercer_digito '1', tercer_potencia:'2-1', cuarto_digito '0', cuarta_potencia:'1-1' '''\n",
    "\n",
    "    '''Por ultimo sabemos que la potencia se asigna a el 2 que multiplica el digito y que estos digitos multiplicados por 2 a la potencia 'X', sumados dan el decimal deseado\n",
    "        esto nos queda: \n",
    "        1.(2^3) + 0.(2^2) + 1.(2^1) + 0.(2^0) = 8 + 0 + 2 + 0 = 10 '''\n",
    "    \n",
    "    #Sabiendo esto:\n",
    "    decimal = 0\n",
    "    respuesta=''\n",
    "    for i in range(len(binario)):\n",
    "\n",
    "        bit = int(binario[i])\n",
    "\n",
    "        potencia = len(binario) - i - 1\n",
    "\n",
    "        decimal += bit * (2 ** potencia)\n",
    "\n",
    "        if respuesta:\n",
    "                respuesta += ' + '\n",
    "\n",
    "        respuesta +=f'{bit} x 2^{potencia}'\n",
    "    \n",
    "    respuesta+= f' = {decimal}'\n",
    "        \n",
    "\n",
    "    return decimal, respuesta"
   ]
  },
  {
   "cell_type": "code",
   "execution_count": null,
   "id": "d79e9e88",
   "metadata": {},
   "outputs": [
    {
     "name": "stdout",
     "output_type": "stream",
     "text": [
      "La respuesta correcta es: 1 x 2^9 + 0 x 2^8 + 0 x 2^7 + 1 x 2^6 + 0 x 2^5 + 1 x 2^4 + 0 x 2^3 + 1 x 2^2 + 0 x 2^1 + 0 x 2^0 = 596\n"
     ]
    }
   ],
   "source": [
    "resultado_decimal, respuesta_paso_a_paso = Binario_Decimal(binario)\n",
    "print(f'La respuesta correcta es: {respuesta_paso_a_paso}')"
   ]
  }
 ],
 "metadata": {
  "kernelspec": {
   "display_name": "Python 3",
   "language": "python",
   "name": "python3"
  },
  "language_info": {
   "codemirror_mode": {
    "name": "ipython",
    "version": 3
   },
   "file_extension": ".py",
   "mimetype": "text/x-python",
   "name": "python",
   "nbconvert_exporter": "python",
   "pygments_lexer": "ipython3",
   "version": "3.11.9"
  }
 },
 "nbformat": 4,
 "nbformat_minor": 5
}
